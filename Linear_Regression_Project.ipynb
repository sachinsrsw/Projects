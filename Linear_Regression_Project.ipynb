{
 "cells": [
  {
   "cell_type": "markdown",
   "id": "80c15233",
   "metadata": {},
   "source": [
    "## Problem Statement:"
   ]
  },
  {
   "cell_type": "markdown",
   "id": "6727ecbb",
   "metadata": {},
   "source": [
    "One of the largest retail chains in the world wants to use their vast data source to build an efficient forecasting model to predict the sales for each SKU in its portfolio at its 76 different stores using historical sales data for the past 3 years on a week-on-week basis. Sales and promotional information is also available for each week - product and store wise. \n",
    "\n",
    "However, no other information regarding stores and products are available. So we need to forecast accurately the sales values for every such product/SKU-store combination for the next 12 weeks accurately."
   ]
  },
  {
   "cell_type": "code",
   "execution_count": 1,
   "id": "b07d288e",
   "metadata": {},
   "outputs": [],
   "source": [
    "#Importing required libraries \n",
    "import pandas as pd\n",
    "\n",
    "import numpy as np\n",
    "import seaborn as sns\n",
    "import matplotlib.pyplot as plt\n",
    "from statsmodels.stats.outliers_influence import variance_inflation_factor\n",
    "%matplotlib inline"
   ]
  },
  {
   "cell_type": "code",
   "execution_count": 2,
   "id": "8acb648f",
   "metadata": {},
   "outputs": [],
   "source": [
    "# Reading CSV file\n",
    "df_train = pd.read_csv('train_data.csv')\n",
    "df_test = pd.read_csv('test_data.csv')"
   ]
  },
  {
   "cell_type": "code",
   "execution_count": 3,
   "id": "278336bc",
   "metadata": {},
   "outputs": [],
   "source": [
    "df = pd.concat([df_train,df_test])"
   ]
  },
  {
   "cell_type": "code",
   "execution_count": 4,
   "id": "e154de1b",
   "metadata": {},
   "outputs": [
    {
     "data": {
      "text/html": [
       "<div>\n",
       "<style scoped>\n",
       "    .dataframe tbody tr th:only-of-type {\n",
       "        vertical-align: middle;\n",
       "    }\n",
       "\n",
       "    .dataframe tbody tr th {\n",
       "        vertical-align: top;\n",
       "    }\n",
       "\n",
       "    .dataframe thead th {\n",
       "        text-align: right;\n",
       "    }\n",
       "</style>\n",
       "<table border=\"1\" class=\"dataframe\">\n",
       "  <thead>\n",
       "    <tr style=\"text-align: right;\">\n",
       "      <th></th>\n",
       "      <th>record_ID</th>\n",
       "      <th>week</th>\n",
       "      <th>store_id</th>\n",
       "      <th>sku_id</th>\n",
       "      <th>total_price</th>\n",
       "      <th>base_price</th>\n",
       "      <th>is_featured_sku</th>\n",
       "      <th>is_display_sku</th>\n",
       "      <th>units_sold</th>\n",
       "    </tr>\n",
       "  </thead>\n",
       "  <tbody>\n",
       "    <tr>\n",
       "      <th>13855</th>\n",
       "      <td>232281</td>\n",
       "      <td>01/10/13</td>\n",
       "      <td>9984</td>\n",
       "      <td>223245</td>\n",
       "      <td>241.5375</td>\n",
       "      <td>241.5375</td>\n",
       "      <td>0</td>\n",
       "      <td>0</td>\n",
       "      <td>NaN</td>\n",
       "    </tr>\n",
       "    <tr>\n",
       "      <th>13856</th>\n",
       "      <td>232282</td>\n",
       "      <td>01/10/13</td>\n",
       "      <td>9984</td>\n",
       "      <td>223153</td>\n",
       "      <td>240.8250</td>\n",
       "      <td>240.8250</td>\n",
       "      <td>0</td>\n",
       "      <td>0</td>\n",
       "      <td>NaN</td>\n",
       "    </tr>\n",
       "    <tr>\n",
       "      <th>13857</th>\n",
       "      <td>232285</td>\n",
       "      <td>01/10/13</td>\n",
       "      <td>9984</td>\n",
       "      <td>245338</td>\n",
       "      <td>382.6125</td>\n",
       "      <td>401.8500</td>\n",
       "      <td>1</td>\n",
       "      <td>1</td>\n",
       "      <td>NaN</td>\n",
       "    </tr>\n",
       "    <tr>\n",
       "      <th>13858</th>\n",
       "      <td>232286</td>\n",
       "      <td>01/10/13</td>\n",
       "      <td>9984</td>\n",
       "      <td>547934</td>\n",
       "      <td>191.6625</td>\n",
       "      <td>191.6625</td>\n",
       "      <td>0</td>\n",
       "      <td>0</td>\n",
       "      <td>NaN</td>\n",
       "    </tr>\n",
       "    <tr>\n",
       "      <th>13859</th>\n",
       "      <td>232287</td>\n",
       "      <td>01/10/13</td>\n",
       "      <td>9984</td>\n",
       "      <td>679023</td>\n",
       "      <td>234.4125</td>\n",
       "      <td>234.4125</td>\n",
       "      <td>0</td>\n",
       "      <td>0</td>\n",
       "      <td>NaN</td>\n",
       "    </tr>\n",
       "  </tbody>\n",
       "</table>\n",
       "</div>"
      ],
      "text/plain": [
       "       record_ID      week  store_id  sku_id  total_price  base_price  \\\n",
       "13855     232281  01/10/13      9984  223245     241.5375    241.5375   \n",
       "13856     232282  01/10/13      9984  223153     240.8250    240.8250   \n",
       "13857     232285  01/10/13      9984  245338     382.6125    401.8500   \n",
       "13858     232286  01/10/13      9984  547934     191.6625    191.6625   \n",
       "13859     232287  01/10/13      9984  679023     234.4125    234.4125   \n",
       "\n",
       "       is_featured_sku  is_display_sku  units_sold  \n",
       "13855                0               0         NaN  \n",
       "13856                0               0         NaN  \n",
       "13857                1               1         NaN  \n",
       "13858                0               0         NaN  \n",
       "13859                0               0         NaN  "
      ]
     },
     "execution_count": 4,
     "metadata": {},
     "output_type": "execute_result"
    }
   ],
   "source": [
    "# Last five rows\n",
    "df.tail()"
   ]
  },
  {
   "cell_type": "code",
   "execution_count": 5,
   "id": "1e59e4d9",
   "metadata": {},
   "outputs": [
    {
     "name": "stdout",
     "output_type": "stream",
     "text": [
      "<class 'pandas.core.frame.DataFrame'>\n",
      "Int64Index: 164010 entries, 0 to 13859\n",
      "Data columns (total 9 columns):\n",
      " #   Column           Non-Null Count   Dtype  \n",
      "---  ------           --------------   -----  \n",
      " 0   record_ID        164010 non-null  int64  \n",
      " 1   week             164010 non-null  object \n",
      " 2   store_id         164010 non-null  int64  \n",
      " 3   sku_id           164010 non-null  int64  \n",
      " 4   total_price      164009 non-null  float64\n",
      " 5   base_price       164010 non-null  float64\n",
      " 6   is_featured_sku  164010 non-null  int64  \n",
      " 7   is_display_sku   164010 non-null  int64  \n",
      " 8   units_sold       150150 non-null  float64\n",
      "dtypes: float64(3), int64(5), object(1)\n",
      "memory usage: 12.5+ MB\n"
     ]
    }
   ],
   "source": [
    "df.info()"
   ]
  },
  {
   "cell_type": "code",
   "execution_count": 6,
   "id": "f136fdfc",
   "metadata": {},
   "outputs": [
    {
     "data": {
      "text/plain": [
       "0        0\n",
       "1        0\n",
       "2        0\n",
       "3        0\n",
       "4        0\n",
       "        ..\n",
       "13855    0\n",
       "13856    0\n",
       "13857    1\n",
       "13858    0\n",
       "13859    0\n",
       "Name: is_display_sku, Length: 164010, dtype: category\n",
       "Categories (2, int64): [0, 1]"
      ]
     },
     "execution_count": 6,
     "metadata": {},
     "output_type": "execute_result"
    }
   ],
   "source": [
    "# Converting the required column in category\n",
    "df['is_featured_sku'].astype('category')\n",
    "df['is_display_sku'].astype('category')"
   ]
  },
  {
   "cell_type": "code",
   "execution_count": 7,
   "id": "644cab52",
   "metadata": {},
   "outputs": [],
   "source": [
    "# Import label encoder\n",
    "from sklearn import preprocessing\n",
    "  \n",
    "# label_encoder object knows how to understand word labels.\n",
    "label_encoder = preprocessing.LabelEncoder()\n",
    "  \n",
    "# Encode labels in column 'species'.\n",
    "df['store_id']= label_encoder.fit_transform(df['store_id'])\n",
    "df['sku_id']= label_encoder.fit_transform(df['sku_id'])"
   ]
  },
  {
   "cell_type": "code",
   "execution_count": 8,
   "id": "7c0ebfc8",
   "metadata": {},
   "outputs": [
    {
     "data": {
      "text/html": [
       "<div>\n",
       "<style scoped>\n",
       "    .dataframe tbody tr th:only-of-type {\n",
       "        vertical-align: middle;\n",
       "    }\n",
       "\n",
       "    .dataframe tbody tr th {\n",
       "        vertical-align: top;\n",
       "    }\n",
       "\n",
       "    .dataframe thead th {\n",
       "        text-align: right;\n",
       "    }\n",
       "</style>\n",
       "<table border=\"1\" class=\"dataframe\">\n",
       "  <thead>\n",
       "    <tr style=\"text-align: right;\">\n",
       "      <th></th>\n",
       "      <th>record_ID</th>\n",
       "      <th>week</th>\n",
       "      <th>store_id</th>\n",
       "      <th>sku_id</th>\n",
       "      <th>total_price</th>\n",
       "      <th>base_price</th>\n",
       "      <th>is_featured_sku</th>\n",
       "      <th>is_display_sku</th>\n",
       "      <th>units_sold</th>\n",
       "    </tr>\n",
       "  </thead>\n",
       "  <tbody>\n",
       "    <tr>\n",
       "      <th>0</th>\n",
       "      <td>1</td>\n",
       "      <td>17/01/11</td>\n",
       "      <td>3</td>\n",
       "      <td>1</td>\n",
       "      <td>99.0375</td>\n",
       "      <td>111.8625</td>\n",
       "      <td>0</td>\n",
       "      <td>0</td>\n",
       "      <td>20.0</td>\n",
       "    </tr>\n",
       "    <tr>\n",
       "      <th>1</th>\n",
       "      <td>2</td>\n",
       "      <td>17/01/11</td>\n",
       "      <td>3</td>\n",
       "      <td>2</td>\n",
       "      <td>99.0375</td>\n",
       "      <td>99.0375</td>\n",
       "      <td>0</td>\n",
       "      <td>0</td>\n",
       "      <td>28.0</td>\n",
       "    </tr>\n",
       "    <tr>\n",
       "      <th>2</th>\n",
       "      <td>3</td>\n",
       "      <td>17/01/11</td>\n",
       "      <td>3</td>\n",
       "      <td>3</td>\n",
       "      <td>133.9500</td>\n",
       "      <td>133.9500</td>\n",
       "      <td>0</td>\n",
       "      <td>0</td>\n",
       "      <td>19.0</td>\n",
       "    </tr>\n",
       "    <tr>\n",
       "      <th>3</th>\n",
       "      <td>4</td>\n",
       "      <td>17/01/11</td>\n",
       "      <td>3</td>\n",
       "      <td>0</td>\n",
       "      <td>133.9500</td>\n",
       "      <td>133.9500</td>\n",
       "      <td>0</td>\n",
       "      <td>0</td>\n",
       "      <td>44.0</td>\n",
       "    </tr>\n",
       "    <tr>\n",
       "      <th>4</th>\n",
       "      <td>5</td>\n",
       "      <td>17/01/11</td>\n",
       "      <td>3</td>\n",
       "      <td>5</td>\n",
       "      <td>141.0750</td>\n",
       "      <td>141.0750</td>\n",
       "      <td>0</td>\n",
       "      <td>0</td>\n",
       "      <td>52.0</td>\n",
       "    </tr>\n",
       "  </tbody>\n",
       "</table>\n",
       "</div>"
      ],
      "text/plain": [
       "   record_ID      week  store_id  sku_id  total_price  base_price  \\\n",
       "0          1  17/01/11         3       1      99.0375    111.8625   \n",
       "1          2  17/01/11         3       2      99.0375     99.0375   \n",
       "2          3  17/01/11         3       3     133.9500    133.9500   \n",
       "3          4  17/01/11         3       0     133.9500    133.9500   \n",
       "4          5  17/01/11         3       5     141.0750    141.0750   \n",
       "\n",
       "   is_featured_sku  is_display_sku  units_sold  \n",
       "0                0               0        20.0  \n",
       "1                0               0        28.0  \n",
       "2                0               0        19.0  \n",
       "3                0               0        44.0  \n",
       "4                0               0        52.0  "
      ]
     },
     "execution_count": 8,
     "metadata": {},
     "output_type": "execute_result"
    }
   ],
   "source": [
    "df.head()"
   ]
  },
  {
   "cell_type": "code",
   "execution_count": 9,
   "id": "8de1177a",
   "metadata": {},
   "outputs": [
    {
     "data": {
      "text/plain": [
       "(164010, 9)"
      ]
     },
     "execution_count": 9,
     "metadata": {},
     "output_type": "execute_result"
    }
   ],
   "source": [
    "# Checking the shape of the data\n",
    "df.shape"
   ]
  },
  {
   "cell_type": "code",
   "execution_count": 10,
   "id": "b84ccbdb",
   "metadata": {},
   "outputs": [
    {
     "name": "stdout",
     "output_type": "stream",
     "text": [
      "<class 'pandas.core.frame.DataFrame'>\n",
      "Int64Index: 164010 entries, 0 to 13859\n",
      "Data columns (total 9 columns):\n",
      " #   Column           Non-Null Count   Dtype  \n",
      "---  ------           --------------   -----  \n",
      " 0   record_ID        164010 non-null  int64  \n",
      " 1   week             164010 non-null  object \n",
      " 2   store_id         164010 non-null  int64  \n",
      " 3   sku_id           164010 non-null  int64  \n",
      " 4   total_price      164009 non-null  float64\n",
      " 5   base_price       164010 non-null  float64\n",
      " 6   is_featured_sku  164010 non-null  int64  \n",
      " 7   is_display_sku   164010 non-null  int64  \n",
      " 8   units_sold       150150 non-null  float64\n",
      "dtypes: float64(3), int64(5), object(1)\n",
      "memory usage: 12.5+ MB\n"
     ]
    }
   ],
   "source": [
    "# Checking info of the dataset\n",
    "df.info()"
   ]
  },
  {
   "cell_type": "code",
   "execution_count": 11,
   "id": "a3677170",
   "metadata": {},
   "outputs": [
    {
     "data": {
      "text/html": [
       "<div>\n",
       "<style scoped>\n",
       "    .dataframe tbody tr th:only-of-type {\n",
       "        vertical-align: middle;\n",
       "    }\n",
       "\n",
       "    .dataframe tbody tr th {\n",
       "        vertical-align: top;\n",
       "    }\n",
       "\n",
       "    .dataframe thead th {\n",
       "        text-align: right;\n",
       "    }\n",
       "</style>\n",
       "<table border=\"1\" class=\"dataframe\">\n",
       "  <thead>\n",
       "    <tr style=\"text-align: right;\">\n",
       "      <th></th>\n",
       "      <th>record_ID</th>\n",
       "      <th>store_id</th>\n",
       "      <th>sku_id</th>\n",
       "      <th>total_price</th>\n",
       "      <th>base_price</th>\n",
       "      <th>is_featured_sku</th>\n",
       "      <th>is_display_sku</th>\n",
       "      <th>units_sold</th>\n",
       "    </tr>\n",
       "  </thead>\n",
       "  <tbody>\n",
       "    <tr>\n",
       "      <th>count</th>\n",
       "      <td>164010.000000</td>\n",
       "      <td>164010.000000</td>\n",
       "      <td>164010.000000</td>\n",
       "      <td>164009.000000</td>\n",
       "      <td>164010.000000</td>\n",
       "      <td>164010.000000</td>\n",
       "      <td>164010.000000</td>\n",
       "      <td>150150.000000</td>\n",
       "    </tr>\n",
       "    <tr>\n",
       "      <th>mean</th>\n",
       "      <td>116090.309664</td>\n",
       "      <td>37.012121</td>\n",
       "      <td>9.662338</td>\n",
       "      <td>207.096792</td>\n",
       "      <td>219.805933</td>\n",
       "      <td>0.094848</td>\n",
       "      <td>0.133211</td>\n",
       "      <td>51.674206</td>\n",
       "    </tr>\n",
       "    <tr>\n",
       "      <th>std</th>\n",
       "      <td>67059.235114</td>\n",
       "      <td>22.391351</td>\n",
       "      <td>6.586134</td>\n",
       "      <td>102.499506</td>\n",
       "      <td>110.351869</td>\n",
       "      <td>0.293006</td>\n",
       "      <td>0.339804</td>\n",
       "      <td>60.207904</td>\n",
       "    </tr>\n",
       "    <tr>\n",
       "      <th>min</th>\n",
       "      <td>1.000000</td>\n",
       "      <td>0.000000</td>\n",
       "      <td>0.000000</td>\n",
       "      <td>41.325000</td>\n",
       "      <td>61.275000</td>\n",
       "      <td>0.000000</td>\n",
       "      <td>0.000000</td>\n",
       "      <td>1.000000</td>\n",
       "    </tr>\n",
       "    <tr>\n",
       "      <th>25%</th>\n",
       "      <td>57989.250000</td>\n",
       "      <td>17.000000</td>\n",
       "      <td>4.000000</td>\n",
       "      <td>130.387500</td>\n",
       "      <td>133.237500</td>\n",
       "      <td>0.000000</td>\n",
       "      <td>0.000000</td>\n",
       "      <td>20.000000</td>\n",
       "    </tr>\n",
       "    <tr>\n",
       "      <th>50%</th>\n",
       "      <td>116054.500000</td>\n",
       "      <td>36.000000</td>\n",
       "      <td>10.000000</td>\n",
       "      <td>198.787500</td>\n",
       "      <td>208.050000</td>\n",
       "      <td>0.000000</td>\n",
       "      <td>0.000000</td>\n",
       "      <td>35.000000</td>\n",
       "    </tr>\n",
       "    <tr>\n",
       "      <th>75%</th>\n",
       "      <td>174176.750000</td>\n",
       "      <td>57.000000</td>\n",
       "      <td>14.000000</td>\n",
       "      <td>234.412500</td>\n",
       "      <td>235.837500</td>\n",
       "      <td>0.000000</td>\n",
       "      <td>0.000000</td>\n",
       "      <td>62.000000</td>\n",
       "    </tr>\n",
       "    <tr>\n",
       "      <th>max</th>\n",
       "      <td>232287.000000</td>\n",
       "      <td>75.000000</td>\n",
       "      <td>27.000000</td>\n",
       "      <td>562.162500</td>\n",
       "      <td>562.162500</td>\n",
       "      <td>1.000000</td>\n",
       "      <td>1.000000</td>\n",
       "      <td>2876.000000</td>\n",
       "    </tr>\n",
       "  </tbody>\n",
       "</table>\n",
       "</div>"
      ],
      "text/plain": [
       "           record_ID       store_id         sku_id    total_price  \\\n",
       "count  164010.000000  164010.000000  164010.000000  164009.000000   \n",
       "mean   116090.309664      37.012121       9.662338     207.096792   \n",
       "std     67059.235114      22.391351       6.586134     102.499506   \n",
       "min         1.000000       0.000000       0.000000      41.325000   \n",
       "25%     57989.250000      17.000000       4.000000     130.387500   \n",
       "50%    116054.500000      36.000000      10.000000     198.787500   \n",
       "75%    174176.750000      57.000000      14.000000     234.412500   \n",
       "max    232287.000000      75.000000      27.000000     562.162500   \n",
       "\n",
       "          base_price  is_featured_sku  is_display_sku     units_sold  \n",
       "count  164010.000000    164010.000000   164010.000000  150150.000000  \n",
       "mean      219.805933         0.094848        0.133211      51.674206  \n",
       "std       110.351869         0.293006        0.339804      60.207904  \n",
       "min        61.275000         0.000000        0.000000       1.000000  \n",
       "25%       133.237500         0.000000        0.000000      20.000000  \n",
       "50%       208.050000         0.000000        0.000000      35.000000  \n",
       "75%       235.837500         0.000000        0.000000      62.000000  \n",
       "max       562.162500         1.000000        1.000000    2876.000000  "
      ]
     },
     "execution_count": 11,
     "metadata": {},
     "output_type": "execute_result"
    }
   ],
   "source": [
    "# Checking the statistics of the data\n",
    "df.describe()"
   ]
  },
  {
   "cell_type": "code",
   "execution_count": 12,
   "id": "fab8740d",
   "metadata": {},
   "outputs": [],
   "source": [
    "df.drop(['record_ID','week'],axis=1,inplace =True)"
   ]
  },
  {
   "cell_type": "code",
   "execution_count": 13,
   "id": "bc350830",
   "metadata": {},
   "outputs": [
    {
     "data": {
      "text/plain": [
       "store_id               0\n",
       "sku_id                 0\n",
       "total_price            1\n",
       "base_price             0\n",
       "is_featured_sku        0\n",
       "is_display_sku         0\n",
       "units_sold         13860\n",
       "dtype: int64"
      ]
     },
     "execution_count": 13,
     "metadata": {},
     "output_type": "execute_result"
    }
   ],
   "source": [
    "# Checking null values\n",
    "df.isnull().sum()"
   ]
  },
  {
   "cell_type": "code",
   "execution_count": 14,
   "id": "409617d8",
   "metadata": {},
   "outputs": [],
   "source": [
    "df['total_price'].fillna(df['total_price'].mean(),inplace=True)"
   ]
  },
  {
   "cell_type": "code",
   "execution_count": 15,
   "id": "a8c72c2f",
   "metadata": {},
   "outputs": [
    {
     "data": {
      "text/plain": [
       "store_id               0\n",
       "sku_id                 0\n",
       "total_price            0\n",
       "base_price             0\n",
       "is_featured_sku        0\n",
       "is_display_sku         0\n",
       "units_sold         13860\n",
       "dtype: int64"
      ]
     },
     "execution_count": 15,
     "metadata": {},
     "output_type": "execute_result"
    }
   ],
   "source": [
    "df.isnull().sum()\n",
    "# No missing values left"
   ]
  },
  {
   "cell_type": "code",
   "execution_count": 16,
   "id": "ca46b75f",
   "metadata": {},
   "outputs": [
    {
     "data": {
      "text/plain": [
       "<AxesSubplot:>"
      ]
     },
     "execution_count": 16,
     "metadata": {},
     "output_type": "execute_result"
    },
    {
     "data": {
      "image/png": "[encoded data removed]",
      "text/plain": [
       "<Figure size 720x720 with 2 Axes>"
      ]
     },
     "metadata": {
      "needs_background": "light"
     },
     "output_type": "display_data"
    }
   ],
   "source": [
    "# Correlation among the features\n",
    "plt.figure(figsize=(10,10))\n",
    "sns.heatmap(df.corr(),annot=True)\n",
    "\n",
    "# We can see that the correlation between total_price and base_price is huge i.e 0.96."
   ]
  },
  {
   "cell_type": "code",
   "execution_count": 17,
   "id": "b212d26b",
   "metadata": {},
   "outputs": [],
   "source": [
    "df_num = df.copy()"
   ]
  },
  {
   "cell_type": "code",
   "execution_count": 18,
   "id": "12c9909f",
   "metadata": {},
   "outputs": [],
   "source": [
    "df_num.drop(['units_sold'],axis = 1,inplace = True)"
   ]
  },
  {
   "cell_type": "code",
   "execution_count": 19,
   "id": "fccc5047",
   "metadata": {},
   "outputs": [
    {
     "data": {
      "text/html": [
       "<div>\n",
       "<style scoped>\n",
       "    .dataframe tbody tr th:only-of-type {\n",
       "        vertical-align: middle;\n",
       "    }\n",
       "\n",
       "    .dataframe tbody tr th {\n",
       "        vertical-align: top;\n",
       "    }\n",
       "\n",
       "    .dataframe thead th {\n",
       "        text-align: right;\n",
       "    }\n",
       "</style>\n",
       "<table border=\"1\" class=\"dataframe\">\n",
       "  <thead>\n",
       "    <tr style=\"text-align: right;\">\n",
       "      <th></th>\n",
       "      <th>store_id</th>\n",
       "      <th>sku_id</th>\n",
       "      <th>total_price</th>\n",
       "      <th>base_price</th>\n",
       "      <th>is_featured_sku</th>\n",
       "      <th>is_display_sku</th>\n",
       "    </tr>\n",
       "  </thead>\n",
       "  <tbody>\n",
       "    <tr>\n",
       "      <th>0</th>\n",
       "      <td>3</td>\n",
       "      <td>1</td>\n",
       "      <td>99.0375</td>\n",
       "      <td>111.8625</td>\n",
       "      <td>0</td>\n",
       "      <td>0</td>\n",
       "    </tr>\n",
       "    <tr>\n",
       "      <th>1</th>\n",
       "      <td>3</td>\n",
       "      <td>2</td>\n",
       "      <td>99.0375</td>\n",
       "      <td>99.0375</td>\n",
       "      <td>0</td>\n",
       "      <td>0</td>\n",
       "    </tr>\n",
       "    <tr>\n",
       "      <th>2</th>\n",
       "      <td>3</td>\n",
       "      <td>3</td>\n",
       "      <td>133.9500</td>\n",
       "      <td>133.9500</td>\n",
       "      <td>0</td>\n",
       "      <td>0</td>\n",
       "    </tr>\n",
       "    <tr>\n",
       "      <th>3</th>\n",
       "      <td>3</td>\n",
       "      <td>0</td>\n",
       "      <td>133.9500</td>\n",
       "      <td>133.9500</td>\n",
       "      <td>0</td>\n",
       "      <td>0</td>\n",
       "    </tr>\n",
       "    <tr>\n",
       "      <th>4</th>\n",
       "      <td>3</td>\n",
       "      <td>5</td>\n",
       "      <td>141.0750</td>\n",
       "      <td>141.0750</td>\n",
       "      <td>0</td>\n",
       "      <td>0</td>\n",
       "    </tr>\n",
       "    <tr>\n",
       "      <th>...</th>\n",
       "      <td>...</td>\n",
       "      <td>...</td>\n",
       "      <td>...</td>\n",
       "      <td>...</td>\n",
       "      <td>...</td>\n",
       "      <td>...</td>\n",
       "    </tr>\n",
       "    <tr>\n",
       "      <th>13855</th>\n",
       "      <td>75</td>\n",
       "      <td>13</td>\n",
       "      <td>241.5375</td>\n",
       "      <td>241.5375</td>\n",
       "      <td>0</td>\n",
       "      <td>0</td>\n",
       "    </tr>\n",
       "    <tr>\n",
       "      <th>13856</th>\n",
       "      <td>75</td>\n",
       "      <td>12</td>\n",
       "      <td>240.8250</td>\n",
       "      <td>240.8250</td>\n",
       "      <td>0</td>\n",
       "      <td>0</td>\n",
       "    </tr>\n",
       "    <tr>\n",
       "      <th>13857</th>\n",
       "      <td>75</td>\n",
       "      <td>14</td>\n",
       "      <td>382.6125</td>\n",
       "      <td>401.8500</td>\n",
       "      <td>1</td>\n",
       "      <td>1</td>\n",
       "    </tr>\n",
       "    <tr>\n",
       "      <th>13858</th>\n",
       "      <td>75</td>\n",
       "      <td>24</td>\n",
       "      <td>191.6625</td>\n",
       "      <td>191.6625</td>\n",
       "      <td>0</td>\n",
       "      <td>0</td>\n",
       "    </tr>\n",
       "    <tr>\n",
       "      <th>13859</th>\n",
       "      <td>75</td>\n",
       "      <td>27</td>\n",
       "      <td>234.4125</td>\n",
       "      <td>234.4125</td>\n",
       "      <td>0</td>\n",
       "      <td>0</td>\n",
       "    </tr>\n",
       "  </tbody>\n",
       "</table>\n",
       "<p>164010 rows × 6 columns</p>\n",
       "</div>"
      ],
      "text/plain": [
       "       store_id  sku_id  total_price  base_price  is_featured_sku  \\\n",
       "0             3       1      99.0375    111.8625                0   \n",
       "1             3       2      99.0375     99.0375                0   \n",
       "2             3       3     133.9500    133.9500                0   \n",
       "3             3       0     133.9500    133.9500                0   \n",
       "4             3       5     141.0750    141.0750                0   \n",
       "...         ...     ...          ...         ...              ...   \n",
       "13855        75      13     241.5375    241.5375                0   \n",
       "13856        75      12     240.8250    240.8250                0   \n",
       "13857        75      14     382.6125    401.8500                1   \n",
       "13858        75      24     191.6625    191.6625                0   \n",
       "13859        75      27     234.4125    234.4125                0   \n",
       "\n",
       "       is_display_sku  \n",
       "0                   0  \n",
       "1                   0  \n",
       "2                   0  \n",
       "3                   0  \n",
       "4                   0  \n",
       "...               ...  \n",
       "13855               0  \n",
       "13856               0  \n",
       "13857               1  \n",
       "13858               0  \n",
       "13859               0  \n",
       "\n",
       "[164010 rows x 6 columns]"
      ]
     },
     "execution_count": 19,
     "metadata": {},
     "output_type": "execute_result"
    }
   ],
   "source": [
    "df_num"
   ]
  },
  {
   "cell_type": "code",
   "execution_count": 20,
   "id": "e6e0788f",
   "metadata": {},
   "outputs": [
    {
     "data": {
      "text/html": [
       "<div>\n",
       "<style scoped>\n",
       "    .dataframe tbody tr th:only-of-type {\n",
       "        vertical-align: middle;\n",
       "    }\n",
       "\n",
       "    .dataframe tbody tr th {\n",
       "        vertical-align: top;\n",
       "    }\n",
       "\n",
       "    .dataframe thead th {\n",
       "        text-align: right;\n",
       "    }\n",
       "</style>\n",
       "<table border=\"1\" class=\"dataframe\">\n",
       "  <thead>\n",
       "    <tr style=\"text-align: right;\">\n",
       "      <th></th>\n",
       "      <th>variables</th>\n",
       "      <th>VIF</th>\n",
       "    </tr>\n",
       "  </thead>\n",
       "  <tbody>\n",
       "    <tr>\n",
       "      <th>0</th>\n",
       "      <td>store_id</td>\n",
       "      <td>2.444225</td>\n",
       "    </tr>\n",
       "    <tr>\n",
       "      <th>1</th>\n",
       "      <td>sku_id</td>\n",
       "      <td>3.810383</td>\n",
       "    </tr>\n",
       "    <tr>\n",
       "      <th>2</th>\n",
       "      <td>total_price</td>\n",
       "      <td>94.148830</td>\n",
       "    </tr>\n",
       "    <tr>\n",
       "      <th>3</th>\n",
       "      <td>base_price</td>\n",
       "      <td>99.544426</td>\n",
       "    </tr>\n",
       "    <tr>\n",
       "      <th>4</th>\n",
       "      <td>is_featured_sku</td>\n",
       "      <td>1.817406</td>\n",
       "    </tr>\n",
       "    <tr>\n",
       "      <th>5</th>\n",
       "      <td>is_display_sku</td>\n",
       "      <td>1.468774</td>\n",
       "    </tr>\n",
       "  </tbody>\n",
       "</table>\n",
       "</div>"
      ],
      "text/plain": [
       "         variables        VIF\n",
       "0         store_id   2.444225\n",
       "1           sku_id   3.810383\n",
       "2      total_price  94.148830\n",
       "3       base_price  99.544426\n",
       "4  is_featured_sku   1.817406\n",
       "5   is_display_sku   1.468774"
      ]
     },
     "execution_count": 20,
     "metadata": {},
     "output_type": "execute_result"
    }
   ],
   "source": [
    "# Removing week from the dataset for Checking variance inflation factor\n",
    "vif = pd.DataFrame()\n",
    "vif[\"variables\"] = df_num.columns\n",
    "vif[\"VIF\"] = [variance_inflation_factor(df_num.values, i) for i in range(df_num.shape[1])]\n",
    "vif"
   ]
  },
  {
   "cell_type": "code",
   "execution_count": 21,
   "id": "d204cb00",
   "metadata": {},
   "outputs": [],
   "source": [
    "df.drop('base_price',axis=1,inplace=True)"
   ]
  },
  {
   "cell_type": "code",
   "execution_count": 22,
   "id": "bc4a4f74",
   "metadata": {},
   "outputs": [
    {
     "data": {
      "text/html": [
       "<div>\n",
       "<style scoped>\n",
       "    .dataframe tbody tr th:only-of-type {\n",
       "        vertical-align: middle;\n",
       "    }\n",
       "\n",
       "    .dataframe tbody tr th {\n",
       "        vertical-align: top;\n",
       "    }\n",
       "\n",
       "    .dataframe thead th {\n",
       "        text-align: right;\n",
       "    }\n",
       "</style>\n",
       "<table border=\"1\" class=\"dataframe\">\n",
       "  <thead>\n",
       "    <tr style=\"text-align: right;\">\n",
       "      <th></th>\n",
       "      <th>store_id</th>\n",
       "      <th>sku_id</th>\n",
       "      <th>total_price</th>\n",
       "      <th>is_featured_sku</th>\n",
       "      <th>is_display_sku</th>\n",
       "      <th>units_sold</th>\n",
       "    </tr>\n",
       "  </thead>\n",
       "  <tbody>\n",
       "    <tr>\n",
       "      <th>0</th>\n",
       "      <td>3</td>\n",
       "      <td>1</td>\n",
       "      <td>99.0375</td>\n",
       "      <td>0</td>\n",
       "      <td>0</td>\n",
       "      <td>20.0</td>\n",
       "    </tr>\n",
       "    <tr>\n",
       "      <th>1</th>\n",
       "      <td>3</td>\n",
       "      <td>2</td>\n",
       "      <td>99.0375</td>\n",
       "      <td>0</td>\n",
       "      <td>0</td>\n",
       "      <td>28.0</td>\n",
       "    </tr>\n",
       "    <tr>\n",
       "      <th>2</th>\n",
       "      <td>3</td>\n",
       "      <td>3</td>\n",
       "      <td>133.9500</td>\n",
       "      <td>0</td>\n",
       "      <td>0</td>\n",
       "      <td>19.0</td>\n",
       "    </tr>\n",
       "    <tr>\n",
       "      <th>3</th>\n",
       "      <td>3</td>\n",
       "      <td>0</td>\n",
       "      <td>133.9500</td>\n",
       "      <td>0</td>\n",
       "      <td>0</td>\n",
       "      <td>44.0</td>\n",
       "    </tr>\n",
       "    <tr>\n",
       "      <th>4</th>\n",
       "      <td>3</td>\n",
       "      <td>5</td>\n",
       "      <td>141.0750</td>\n",
       "      <td>0</td>\n",
       "      <td>0</td>\n",
       "      <td>52.0</td>\n",
       "    </tr>\n",
       "  </tbody>\n",
       "</table>\n",
       "</div>"
      ],
      "text/plain": [
       "   store_id  sku_id  total_price  is_featured_sku  is_display_sku  units_sold\n",
       "0         3       1      99.0375                0               0        20.0\n",
       "1         3       2      99.0375                0               0        28.0\n",
       "2         3       3     133.9500                0               0        19.0\n",
       "3         3       0     133.9500                0               0        44.0\n",
       "4         3       5     141.0750                0               0        52.0"
      ]
     },
     "execution_count": 22,
     "metadata": {},
     "output_type": "execute_result"
    }
   ],
   "source": [
    "df.head()"
   ]
  },
  {
   "cell_type": "code",
   "execution_count": 23,
   "id": "be04e648",
   "metadata": {},
   "outputs": [
    {
     "data": {
      "text/plain": [
       "Index(['store_id', 'sku_id', 'total_price', 'is_featured_sku',\n",
       "       'is_display_sku', 'units_sold'],\n",
       "      dtype='object')"
      ]
     },
     "execution_count": 23,
     "metadata": {},
     "output_type": "execute_result"
    }
   ],
   "source": [
    "df.columns"
   ]
  },
  {
   "cell_type": "code",
   "execution_count": 24,
   "id": "30781c0f",
   "metadata": {},
   "outputs": [
    {
     "name": "stderr",
     "output_type": "stream",
     "text": [
      "C:\\Users\\Shikha saraswat\\anaconda3\\lib\\site-packages\\seaborn\\distributions.py:2619: FutureWarning: `distplot` is a deprecated function and will be removed in a future version. Please adapt your code to use either `displot` (a figure-level function with similar flexibility) or `kdeplot` (an axes-level function for kernel density plots).\n",
      "  warnings.warn(msg, FutureWarning)\n"
     ]
    },
    {
     "data": {
      "text/plain": [
       "<AxesSubplot:xlabel='total_price', ylabel='Density'>"
      ]
     },
     "execution_count": 24,
     "metadata": {},
     "output_type": "execute_result"
    },
    {
     "data": {
      "image/png": "[encoded data removed]",
      "text/plain": [
       "<Figure size 432x288 with 1 Axes>"
      ]
     },
     "metadata": {
      "needs_background": "light"
     },
     "output_type": "display_data"
    }
   ],
   "source": [
    "sns.distplot(df['total_price'],hist=False)"
   ]
  },
  {
   "cell_type": "code",
   "execution_count": 25,
   "id": "e90ebd38",
   "metadata": {},
   "outputs": [
    {
     "name": "stderr",
     "output_type": "stream",
     "text": [
      "C:\\Users\\Shikha saraswat\\anaconda3\\lib\\site-packages\\seaborn\\distributions.py:2619: FutureWarning: `distplot` is a deprecated function and will be removed in a future version. Please adapt your code to use either `displot` (a figure-level function with similar flexibility) or `kdeplot` (an axes-level function for kernel density plots).\n",
      "  warnings.warn(msg, FutureWarning)\n"
     ]
    },
    {
     "data": {
      "text/plain": [
       "<AxesSubplot:xlabel='total_price_log', ylabel='Density'>"
      ]
     },
     "execution_count": 25,
     "metadata": {},
     "output_type": "execute_result"
    },
    {
     "data": {
      "image/png": "[encoded data removed]",
      "text/plain": [
       "<Figure size 432x288 with 1 Axes>"
      ]
     },
     "metadata": {
      "needs_background": "light"
     },
     "output_type": "display_data"
    }
   ],
   "source": [
    "df['total_price_log'] = np.log(df['total_price'])\n",
    "sns.distplot(df['total_price_log'], hist =False)"
   ]
  },
  {
   "cell_type": "code",
   "execution_count": 26,
   "id": "127d4c95",
   "metadata": {},
   "outputs": [
    {
     "data": {
      "text/html": [
       "<div>\n",
       "<style scoped>\n",
       "    .dataframe tbody tr th:only-of-type {\n",
       "        vertical-align: middle;\n",
       "    }\n",
       "\n",
       "    .dataframe tbody tr th {\n",
       "        vertical-align: top;\n",
       "    }\n",
       "\n",
       "    .dataframe thead th {\n",
       "        text-align: right;\n",
       "    }\n",
       "</style>\n",
       "<table border=\"1\" class=\"dataframe\">\n",
       "  <thead>\n",
       "    <tr style=\"text-align: right;\">\n",
       "      <th></th>\n",
       "      <th>store_id</th>\n",
       "      <th>sku_id</th>\n",
       "      <th>total_price</th>\n",
       "      <th>is_featured_sku</th>\n",
       "      <th>is_display_sku</th>\n",
       "      <th>units_sold</th>\n",
       "      <th>total_price_log</th>\n",
       "    </tr>\n",
       "  </thead>\n",
       "  <tbody>\n",
       "    <tr>\n",
       "      <th>0</th>\n",
       "      <td>3</td>\n",
       "      <td>1</td>\n",
       "      <td>99.0375</td>\n",
       "      <td>0</td>\n",
       "      <td>0</td>\n",
       "      <td>20.0</td>\n",
       "      <td>4.595499</td>\n",
       "    </tr>\n",
       "    <tr>\n",
       "      <th>1</th>\n",
       "      <td>3</td>\n",
       "      <td>2</td>\n",
       "      <td>99.0375</td>\n",
       "      <td>0</td>\n",
       "      <td>0</td>\n",
       "      <td>28.0</td>\n",
       "      <td>4.595499</td>\n",
       "    </tr>\n",
       "    <tr>\n",
       "      <th>2</th>\n",
       "      <td>3</td>\n",
       "      <td>3</td>\n",
       "      <td>133.9500</td>\n",
       "      <td>0</td>\n",
       "      <td>0</td>\n",
       "      <td>19.0</td>\n",
       "      <td>4.897467</td>\n",
       "    </tr>\n",
       "    <tr>\n",
       "      <th>3</th>\n",
       "      <td>3</td>\n",
       "      <td>0</td>\n",
       "      <td>133.9500</td>\n",
       "      <td>0</td>\n",
       "      <td>0</td>\n",
       "      <td>44.0</td>\n",
       "      <td>4.897467</td>\n",
       "    </tr>\n",
       "    <tr>\n",
       "      <th>4</th>\n",
       "      <td>3</td>\n",
       "      <td>5</td>\n",
       "      <td>141.0750</td>\n",
       "      <td>0</td>\n",
       "      <td>0</td>\n",
       "      <td>52.0</td>\n",
       "      <td>4.949292</td>\n",
       "    </tr>\n",
       "    <tr>\n",
       "      <th>...</th>\n",
       "      <td>...</td>\n",
       "      <td>...</td>\n",
       "      <td>...</td>\n",
       "      <td>...</td>\n",
       "      <td>...</td>\n",
       "      <td>...</td>\n",
       "      <td>...</td>\n",
       "    </tr>\n",
       "    <tr>\n",
       "      <th>13855</th>\n",
       "      <td>75</td>\n",
       "      <td>13</td>\n",
       "      <td>241.5375</td>\n",
       "      <td>0</td>\n",
       "      <td>0</td>\n",
       "      <td>NaN</td>\n",
       "      <td>5.487025</td>\n",
       "    </tr>\n",
       "    <tr>\n",
       "      <th>13856</th>\n",
       "      <td>75</td>\n",
       "      <td>12</td>\n",
       "      <td>240.8250</td>\n",
       "      <td>0</td>\n",
       "      <td>0</td>\n",
       "      <td>NaN</td>\n",
       "      <td>5.484071</td>\n",
       "    </tr>\n",
       "    <tr>\n",
       "      <th>13857</th>\n",
       "      <td>75</td>\n",
       "      <td>14</td>\n",
       "      <td>382.6125</td>\n",
       "      <td>1</td>\n",
       "      <td>1</td>\n",
       "      <td>NaN</td>\n",
       "      <td>5.947023</td>\n",
       "    </tr>\n",
       "    <tr>\n",
       "      <th>13858</th>\n",
       "      <td>75</td>\n",
       "      <td>24</td>\n",
       "      <td>191.6625</td>\n",
       "      <td>0</td>\n",
       "      <td>0</td>\n",
       "      <td>NaN</td>\n",
       "      <td>5.255736</td>\n",
       "    </tr>\n",
       "    <tr>\n",
       "      <th>13859</th>\n",
       "      <td>75</td>\n",
       "      <td>27</td>\n",
       "      <td>234.4125</td>\n",
       "      <td>0</td>\n",
       "      <td>0</td>\n",
       "      <td>NaN</td>\n",
       "      <td>5.457082</td>\n",
       "    </tr>\n",
       "  </tbody>\n",
       "</table>\n",
       "<p>164010 rows × 7 columns</p>\n",
       "</div>"
      ],
      "text/plain": [
       "       store_id  sku_id  total_price  is_featured_sku  is_display_sku  \\\n",
       "0             3       1      99.0375                0               0   \n",
       "1             3       2      99.0375                0               0   \n",
       "2             3       3     133.9500                0               0   \n",
       "3             3       0     133.9500                0               0   \n",
       "4             3       5     141.0750                0               0   \n",
       "...         ...     ...          ...              ...             ...   \n",
       "13855        75      13     241.5375                0               0   \n",
       "13856        75      12     240.8250                0               0   \n",
       "13857        75      14     382.6125                1               1   \n",
       "13858        75      24     191.6625                0               0   \n",
       "13859        75      27     234.4125                0               0   \n",
       "\n",
       "       units_sold  total_price_log  \n",
       "0            20.0         4.595499  \n",
       "1            28.0         4.595499  \n",
       "2            19.0         4.897467  \n",
       "3            44.0         4.897467  \n",
       "4            52.0         4.949292  \n",
       "...           ...              ...  \n",
       "13855         NaN         5.487025  \n",
       "13856         NaN         5.484071  \n",
       "13857         NaN         5.947023  \n",
       "13858         NaN         5.255736  \n",
       "13859         NaN         5.457082  \n",
       "\n",
       "[164010 rows x 7 columns]"
      ]
     },
     "execution_count": 26,
     "metadata": {},
     "output_type": "execute_result"
    }
   ],
   "source": [
    "df"
   ]
  },
  {
   "cell_type": "code",
   "execution_count": 27,
   "id": "7015503a",
   "metadata": {},
   "outputs": [],
   "source": [
    "df_test=df[df['units_sold'].isnull()]\n",
    "df_train=df[~df['units_sold'].isnull()]"
   ]
  },
  {
   "cell_type": "code",
   "execution_count": 28,
   "id": "dda6aa76",
   "metadata": {},
   "outputs": [
    {
     "name": "stderr",
     "output_type": "stream",
     "text": [
      "C:\\Users\\Shikha saraswat\\anaconda3\\lib\\site-packages\\seaborn\\distributions.py:2619: FutureWarning: `distplot` is a deprecated function and will be removed in a future version. Please adapt your code to use either `displot` (a figure-level function with similar flexibility) or `kdeplot` (an axes-level function for kernel density plots).\n",
      "  warnings.warn(msg, FutureWarning)\n"
     ]
    },
    {
     "data": {
      "text/plain": [
       "<AxesSubplot:xlabel='units_sold', ylabel='Density'>"
      ]
     },
     "execution_count": 28,
     "metadata": {},
     "output_type": "execute_result"
    },
    {
     "data": {
      "image/png": "[encoded data removed]",
      "text/plain": [
       "<Figure size 432x288 with 1 Axes>"
      ]
     },
     "metadata": {
      "needs_background": "light"
     },
     "output_type": "display_data"
    }
   ],
   "source": [
    "sns.distplot(df_train['units_sold'],hist=False)"
   ]
  },
  {
   "cell_type": "code",
   "execution_count": 29,
   "id": "a720276b",
   "metadata": {},
   "outputs": [
    {
     "name": "stderr",
     "output_type": "stream",
     "text": [
      "C:\\Users\\Shikha saraswat\\AppData\\Local\\Temp\\ipykernel_18524\\3356444588.py:1: SettingWithCopyWarning: \n",
      "A value is trying to be set on a copy of a slice from a DataFrame.\n",
      "Try using .loc[row_indexer,col_indexer] = value instead\n",
      "\n",
      "See the caveats in the documentation: https://pandas.pydata.org/pandas-docs/stable/user_guide/indexing.html#returning-a-view-versus-a-copy\n",
      "  df_train['units_sold_log'] = np.log(df_train['units_sold'])\n",
      "C:\\Users\\Shikha saraswat\\anaconda3\\lib\\site-packages\\seaborn\\distributions.py:2619: FutureWarning: `distplot` is a deprecated function and will be removed in a future version. Please adapt your code to use either `displot` (a figure-level function with similar flexibility) or `kdeplot` (an axes-level function for kernel density plots).\n",
      "  warnings.warn(msg, FutureWarning)\n"
     ]
    },
    {
     "data": {
      "text/plain": [
       "<AxesSubplot:xlabel='units_sold_log', ylabel='Density'>"
      ]
     },
     "execution_count": 29,
     "metadata": {},
     "output_type": "execute_result"
    },
    {
     "data": {
      "image/png": "[encoded data removed]",
      "text/plain": [
       "<Figure size 432x288 with 1 Axes>"
      ]
     },
     "metadata": {
      "needs_background": "light"
     },
     "output_type": "display_data"
    }
   ],
   "source": [
    "df_train['units_sold_log'] = np.log(df_train['units_sold'])\n",
    "sns.distplot(df_train['units_sold_log'], hist =False)"
   ]
  },
  {
   "cell_type": "code",
   "execution_count": 30,
   "id": "a08e560d",
   "metadata": {},
   "outputs": [
    {
     "data": {
      "text/html": [
       "<div>\n",
       "<style scoped>\n",
       "    .dataframe tbody tr th:only-of-type {\n",
       "        vertical-align: middle;\n",
       "    }\n",
       "\n",
       "    .dataframe tbody tr th {\n",
       "        vertical-align: top;\n",
       "    }\n",
       "\n",
       "    .dataframe thead th {\n",
       "        text-align: right;\n",
       "    }\n",
       "</style>\n",
       "<table border=\"1\" class=\"dataframe\">\n",
       "  <thead>\n",
       "    <tr style=\"text-align: right;\">\n",
       "      <th></th>\n",
       "      <th>store_id</th>\n",
       "      <th>sku_id</th>\n",
       "      <th>total_price</th>\n",
       "      <th>is_featured_sku</th>\n",
       "      <th>is_display_sku</th>\n",
       "      <th>units_sold</th>\n",
       "      <th>total_price_log</th>\n",
       "      <th>units_sold_log</th>\n",
       "    </tr>\n",
       "  </thead>\n",
       "  <tbody>\n",
       "    <tr>\n",
       "      <th>0</th>\n",
       "      <td>3</td>\n",
       "      <td>1</td>\n",
       "      <td>99.0375</td>\n",
       "      <td>0</td>\n",
       "      <td>0</td>\n",
       "      <td>20.0</td>\n",
       "      <td>4.595499</td>\n",
       "      <td>2.995732</td>\n",
       "    </tr>\n",
       "    <tr>\n",
       "      <th>1</th>\n",
       "      <td>3</td>\n",
       "      <td>2</td>\n",
       "      <td>99.0375</td>\n",
       "      <td>0</td>\n",
       "      <td>0</td>\n",
       "      <td>28.0</td>\n",
       "      <td>4.595499</td>\n",
       "      <td>3.332205</td>\n",
       "    </tr>\n",
       "    <tr>\n",
       "      <th>2</th>\n",
       "      <td>3</td>\n",
       "      <td>3</td>\n",
       "      <td>133.9500</td>\n",
       "      <td>0</td>\n",
       "      <td>0</td>\n",
       "      <td>19.0</td>\n",
       "      <td>4.897467</td>\n",
       "      <td>2.944439</td>\n",
       "    </tr>\n",
       "    <tr>\n",
       "      <th>3</th>\n",
       "      <td>3</td>\n",
       "      <td>0</td>\n",
       "      <td>133.9500</td>\n",
       "      <td>0</td>\n",
       "      <td>0</td>\n",
       "      <td>44.0</td>\n",
       "      <td>4.897467</td>\n",
       "      <td>3.784190</td>\n",
       "    </tr>\n",
       "    <tr>\n",
       "      <th>4</th>\n",
       "      <td>3</td>\n",
       "      <td>5</td>\n",
       "      <td>141.0750</td>\n",
       "      <td>0</td>\n",
       "      <td>0</td>\n",
       "      <td>52.0</td>\n",
       "      <td>4.949292</td>\n",
       "      <td>3.951244</td>\n",
       "    </tr>\n",
       "  </tbody>\n",
       "</table>\n",
       "</div>"
      ],
      "text/plain": [
       "   store_id  sku_id  total_price  is_featured_sku  is_display_sku  units_sold  \\\n",
       "0         3       1      99.0375                0               0        20.0   \n",
       "1         3       2      99.0375                0               0        28.0   \n",
       "2         3       3     133.9500                0               0        19.0   \n",
       "3         3       0     133.9500                0               0        44.0   \n",
       "4         3       5     141.0750                0               0        52.0   \n",
       "\n",
       "   total_price_log  units_sold_log  \n",
       "0         4.595499        2.995732  \n",
       "1         4.595499        3.332205  \n",
       "2         4.897467        2.944439  \n",
       "3         4.897467        3.784190  \n",
       "4         4.949292        3.951244  "
      ]
     },
     "execution_count": 30,
     "metadata": {},
     "output_type": "execute_result"
    }
   ],
   "source": [
    "df_train.head()"
   ]
  },
  {
   "cell_type": "code",
   "execution_count": 31,
   "id": "a1f9e6da",
   "metadata": {},
   "outputs": [
    {
     "name": "stderr",
     "output_type": "stream",
     "text": [
      "C:\\Users\\Shikha saraswat\\AppData\\Local\\Temp\\ipykernel_18524\\2304766257.py:1: SettingWithCopyWarning: \n",
      "A value is trying to be set on a copy of a slice from a DataFrame\n",
      "\n",
      "See the caveats in the documentation: https://pandas.pydata.org/pandas-docs/stable/user_guide/indexing.html#returning-a-view-versus-a-copy\n",
      "  df_train.drop(['total_price','units_sold'],axis =1,inplace=True)\n"
     ]
    }
   ],
   "source": [
    "df_train.drop(['total_price','units_sold'],axis =1,inplace=True)"
   ]
  },
  {
   "cell_type": "code",
   "execution_count": 32,
   "id": "725d492c",
   "metadata": {},
   "outputs": [
    {
     "data": {
      "text/html": [
       "<div>\n",
       "<style scoped>\n",
       "    .dataframe tbody tr th:only-of-type {\n",
       "        vertical-align: middle;\n",
       "    }\n",
       "\n",
       "    .dataframe tbody tr th {\n",
       "        vertical-align: top;\n",
       "    }\n",
       "\n",
       "    .dataframe thead th {\n",
       "        text-align: right;\n",
       "    }\n",
       "</style>\n",
       "<table border=\"1\" class=\"dataframe\">\n",
       "  <thead>\n",
       "    <tr style=\"text-align: right;\">\n",
       "      <th></th>\n",
       "      <th>store_id</th>\n",
       "      <th>sku_id</th>\n",
       "      <th>is_featured_sku</th>\n",
       "      <th>is_display_sku</th>\n",
       "      <th>total_price_log</th>\n",
       "      <th>units_sold_log</th>\n",
       "    </tr>\n",
       "  </thead>\n",
       "  <tbody>\n",
       "    <tr>\n",
       "      <th>0</th>\n",
       "      <td>3</td>\n",
       "      <td>1</td>\n",
       "      <td>0</td>\n",
       "      <td>0</td>\n",
       "      <td>4.595499</td>\n",
       "      <td>2.995732</td>\n",
       "    </tr>\n",
       "    <tr>\n",
       "      <th>1</th>\n",
       "      <td>3</td>\n",
       "      <td>2</td>\n",
       "      <td>0</td>\n",
       "      <td>0</td>\n",
       "      <td>4.595499</td>\n",
       "      <td>3.332205</td>\n",
       "    </tr>\n",
       "    <tr>\n",
       "      <th>2</th>\n",
       "      <td>3</td>\n",
       "      <td>3</td>\n",
       "      <td>0</td>\n",
       "      <td>0</td>\n",
       "      <td>4.897467</td>\n",
       "      <td>2.944439</td>\n",
       "    </tr>\n",
       "    <tr>\n",
       "      <th>3</th>\n",
       "      <td>3</td>\n",
       "      <td>0</td>\n",
       "      <td>0</td>\n",
       "      <td>0</td>\n",
       "      <td>4.897467</td>\n",
       "      <td>3.784190</td>\n",
       "    </tr>\n",
       "    <tr>\n",
       "      <th>4</th>\n",
       "      <td>3</td>\n",
       "      <td>5</td>\n",
       "      <td>0</td>\n",
       "      <td>0</td>\n",
       "      <td>4.949292</td>\n",
       "      <td>3.951244</td>\n",
       "    </tr>\n",
       "    <tr>\n",
       "      <th>...</th>\n",
       "      <td>...</td>\n",
       "      <td>...</td>\n",
       "      <td>...</td>\n",
       "      <td>...</td>\n",
       "      <td>...</td>\n",
       "      <td>...</td>\n",
       "    </tr>\n",
       "    <tr>\n",
       "      <th>150145</th>\n",
       "      <td>75</td>\n",
       "      <td>13</td>\n",
       "      <td>0</td>\n",
       "      <td>0</td>\n",
       "      <td>5.463143</td>\n",
       "      <td>3.637586</td>\n",
       "    </tr>\n",
       "    <tr>\n",
       "      <th>150146</th>\n",
       "      <td>75</td>\n",
       "      <td>12</td>\n",
       "      <td>0</td>\n",
       "      <td>0</td>\n",
       "      <td>5.463143</td>\n",
       "      <td>3.401197</td>\n",
       "    </tr>\n",
       "    <tr>\n",
       "      <th>150147</th>\n",
       "      <td>75</td>\n",
       "      <td>14</td>\n",
       "      <td>1</td>\n",
       "      <td>1</td>\n",
       "      <td>5.879625</td>\n",
       "      <td>3.433987</td>\n",
       "    </tr>\n",
       "    <tr>\n",
       "      <th>150148</th>\n",
       "      <td>75</td>\n",
       "      <td>24</td>\n",
       "      <td>0</td>\n",
       "      <td>1</td>\n",
       "      <td>4.954329</td>\n",
       "      <td>2.484907</td>\n",
       "    </tr>\n",
       "    <tr>\n",
       "      <th>150149</th>\n",
       "      <td>75</td>\n",
       "      <td>27</td>\n",
       "      <td>0</td>\n",
       "      <td>0</td>\n",
       "      <td>5.457082</td>\n",
       "      <td>2.708050</td>\n",
       "    </tr>\n",
       "  </tbody>\n",
       "</table>\n",
       "<p>150150 rows × 6 columns</p>\n",
       "</div>"
      ],
      "text/plain": [
       "        store_id  sku_id  is_featured_sku  is_display_sku  total_price_log  \\\n",
       "0              3       1                0               0         4.595499   \n",
       "1              3       2                0               0         4.595499   \n",
       "2              3       3                0               0         4.897467   \n",
       "3              3       0                0               0         4.897467   \n",
       "4              3       5                0               0         4.949292   \n",
       "...          ...     ...              ...             ...              ...   \n",
       "150145        75      13                0               0         5.463143   \n",
       "150146        75      12                0               0         5.463143   \n",
       "150147        75      14                1               1         5.879625   \n",
       "150148        75      24                0               1         4.954329   \n",
       "150149        75      27                0               0         5.457082   \n",
       "\n",
       "        units_sold_log  \n",
       "0             2.995732  \n",
       "1             3.332205  \n",
       "2             2.944439  \n",
       "3             3.784190  \n",
       "4             3.951244  \n",
       "...                ...  \n",
       "150145        3.637586  \n",
       "150146        3.401197  \n",
       "150147        3.433987  \n",
       "150148        2.484907  \n",
       "150149        2.708050  \n",
       "\n",
       "[150150 rows x 6 columns]"
      ]
     },
     "execution_count": 32,
     "metadata": {},
     "output_type": "execute_result"
    }
   ],
   "source": [
    "df_train"
   ]
  },
  {
   "cell_type": "code",
   "execution_count": 33,
   "id": "b837f10d",
   "metadata": {},
   "outputs": [
    {
     "data": {
      "image/png": "[encoded data removed]",
      "text/plain": [
       "<Figure size 1440x720 with 6 Axes>"
      ]
     },
     "metadata": {
      "needs_background": "light"
     },
     "output_type": "display_data"
    }
   ],
   "source": [
    "# creating box plots\n",
    "fig, ax = plt.subplots(ncols=6, nrows=1, figsize=(20, 10))\n",
    "index = 0\n",
    "ax = ax.flatten()\n",
    "\n",
    "for col, value in df_train.items():\n",
    "    sns.boxplot(y=col, data=df_train, ax=ax[index])\n",
    "    index += 1\n",
    "plt.tight_layout(pad=0.5, w_pad=0.7, h_pad=5.0)\n"
   ]
  },
  {
   "cell_type": "code",
   "execution_count": 34,
   "id": "940d5000",
   "metadata": {},
   "outputs": [
    {
     "name": "stderr",
     "output_type": "stream",
     "text": [
      "C:\\Users\\Shikha saraswat\\anaconda3\\lib\\site-packages\\seaborn\\_decorators.py:36: FutureWarning: Pass the following variable as a keyword arg: x. From version 0.12, the only valid positional argument will be `data`, and passing other arguments without an explicit keyword will result in an error or misinterpretation.\n",
      "  warnings.warn(\n"
     ]
    },
    {
     "data": {
      "text/plain": [
       "<AxesSubplot:xlabel='units_sold_log'>"
      ]
     },
     "execution_count": 34,
     "metadata": {},
     "output_type": "execute_result"
    },
    {
     "data": {
      "image/png": "[encoded data removed]",
      "text/plain": [
       "<Figure size 432x288 with 1 Axes>"
      ]
     },
     "metadata": {
      "needs_background": "light"
     },
     "output_type": "display_data"
    }
   ],
   "source": [
    "# Checking outliers in units_sold_log\n",
    "sns.boxplot(df_train['units_sold_log'])"
   ]
  },
  {
   "cell_type": "code",
   "execution_count": 35,
   "id": "041bca46",
   "metadata": {},
   "outputs": [],
   "source": [
    "# Removing outliers using percentile method\n",
    "\n",
    "totChol_1 = np.percentile(df_train['units_sold_log'], 1)\n",
    "totChol_90 = np.percentile(df_train['units_sold_log'], 99)\n",
    "\n",
    "df_train.loc[df_train['units_sold_log']<totChol_1 , ['units_sold_log']] = totChol_1\n",
    "df_train.loc[df_train['units_sold_log']>totChol_90 ,['units_sold_log']] = totChol_90"
   ]
  },
  {
   "cell_type": "code",
   "execution_count": 36,
   "id": "88e2bd91",
   "metadata": {},
   "outputs": [
    {
     "name": "stderr",
     "output_type": "stream",
     "text": [
      "C:\\Users\\Shikha saraswat\\anaconda3\\lib\\site-packages\\seaborn\\_decorators.py:36: FutureWarning: Pass the following variable as a keyword arg: x. From version 0.12, the only valid positional argument will be `data`, and passing other arguments without an explicit keyword will result in an error or misinterpretation.\n",
      "  warnings.warn(\n"
     ]
    },
    {
     "data": {
      "text/plain": [
       "<AxesSubplot:xlabel='units_sold_log'>"
      ]
     },
     "execution_count": 36,
     "metadata": {},
     "output_type": "execute_result"
    },
    {
     "data": {
      "image/png": "[encoded data removed]",
      "text/plain": [
       "<Figure size 432x288 with 1 Axes>"
      ]
     },
     "metadata": {
      "needs_background": "light"
     },
     "output_type": "display_data"
    }
   ],
   "source": [
    "# Checking outliers again in units_sold column\n",
    "sns.boxplot(df_train['units_sold_log'])"
   ]
  },
  {
   "cell_type": "code",
   "execution_count": 37,
   "id": "e278df11",
   "metadata": {},
   "outputs": [
    {
     "data": {
      "text/plain": [
       "(150150, 6)"
      ]
     },
     "execution_count": 37,
     "metadata": {},
     "output_type": "execute_result"
    }
   ],
   "source": [
    "df_train.shape"
   ]
  },
  {
   "cell_type": "code",
   "execution_count": 38,
   "id": "768ac5d9",
   "metadata": {},
   "outputs": [
    {
     "data": {
      "text/html": [
       "<div>\n",
       "<style scoped>\n",
       "    .dataframe tbody tr th:only-of-type {\n",
       "        vertical-align: middle;\n",
       "    }\n",
       "\n",
       "    .dataframe tbody tr th {\n",
       "        vertical-align: top;\n",
       "    }\n",
       "\n",
       "    .dataframe thead th {\n",
       "        text-align: right;\n",
       "    }\n",
       "</style>\n",
       "<table border=\"1\" class=\"dataframe\">\n",
       "  <thead>\n",
       "    <tr style=\"text-align: right;\">\n",
       "      <th></th>\n",
       "      <th>store_id</th>\n",
       "      <th>sku_id</th>\n",
       "      <th>is_featured_sku</th>\n",
       "      <th>is_display_sku</th>\n",
       "      <th>total_price_log</th>\n",
       "      <th>units_sold_log</th>\n",
       "    </tr>\n",
       "  </thead>\n",
       "  <tbody>\n",
       "    <tr>\n",
       "      <th>0</th>\n",
       "      <td>3</td>\n",
       "      <td>1</td>\n",
       "      <td>0</td>\n",
       "      <td>0</td>\n",
       "      <td>4.595499</td>\n",
       "      <td>2.995732</td>\n",
       "    </tr>\n",
       "    <tr>\n",
       "      <th>1</th>\n",
       "      <td>3</td>\n",
       "      <td>2</td>\n",
       "      <td>0</td>\n",
       "      <td>0</td>\n",
       "      <td>4.595499</td>\n",
       "      <td>3.332205</td>\n",
       "    </tr>\n",
       "    <tr>\n",
       "      <th>2</th>\n",
       "      <td>3</td>\n",
       "      <td>3</td>\n",
       "      <td>0</td>\n",
       "      <td>0</td>\n",
       "      <td>4.897467</td>\n",
       "      <td>2.944439</td>\n",
       "    </tr>\n",
       "    <tr>\n",
       "      <th>3</th>\n",
       "      <td>3</td>\n",
       "      <td>0</td>\n",
       "      <td>0</td>\n",
       "      <td>0</td>\n",
       "      <td>4.897467</td>\n",
       "      <td>3.784190</td>\n",
       "    </tr>\n",
       "    <tr>\n",
       "      <th>4</th>\n",
       "      <td>3</td>\n",
       "      <td>5</td>\n",
       "      <td>0</td>\n",
       "      <td>0</td>\n",
       "      <td>4.949292</td>\n",
       "      <td>3.951244</td>\n",
       "    </tr>\n",
       "  </tbody>\n",
       "</table>\n",
       "</div>"
      ],
      "text/plain": [
       "   store_id  sku_id  is_featured_sku  is_display_sku  total_price_log  \\\n",
       "0         3       1                0               0         4.595499   \n",
       "1         3       2                0               0         4.595499   \n",
       "2         3       3                0               0         4.897467   \n",
       "3         3       0                0               0         4.897467   \n",
       "4         3       5                0               0         4.949292   \n",
       "\n",
       "   units_sold_log  \n",
       "0        2.995732  \n",
       "1        3.332205  \n",
       "2        2.944439  \n",
       "3        3.784190  \n",
       "4        3.951244  "
      ]
     },
     "execution_count": 38,
     "metadata": {},
     "output_type": "execute_result"
    }
   ],
   "source": [
    "df_train.head()"
   ]
  },
  {
   "cell_type": "code",
   "execution_count": 39,
   "id": "5ea3fffe",
   "metadata": {},
   "outputs": [
    {
     "name": "stderr",
     "output_type": "stream",
     "text": [
      "C:\\Users\\Shikha saraswat\\AppData\\Local\\Temp\\ipykernel_18524\\1235086228.py:1: SettingWithCopyWarning: \n",
      "A value is trying to be set on a copy of a slice from a DataFrame\n",
      "\n",
      "See the caveats in the documentation: https://pandas.pydata.org/pandas-docs/stable/user_guide/indexing.html#returning-a-view-versus-a-copy\n",
      "  df_test.drop('units_sold',axis=1,inplace=True)\n"
     ]
    }
   ],
   "source": [
    "df_test.drop('units_sold',axis=1,inplace=True)"
   ]
  },
  {
   "cell_type": "code",
   "execution_count": 40,
   "id": "eac1a0b4",
   "metadata": {},
   "outputs": [
    {
     "name": "stderr",
     "output_type": "stream",
     "text": [
      "C:\\Users\\Shikha saraswat\\AppData\\Local\\Temp\\ipykernel_18524\\1864976468.py:1: SettingWithCopyWarning: \n",
      "A value is trying to be set on a copy of a slice from a DataFrame\n",
      "\n",
      "See the caveats in the documentation: https://pandas.pydata.org/pandas-docs/stable/user_guide/indexing.html#returning-a-view-versus-a-copy\n",
      "  df_test.drop('total_price',axis=1,inplace=True)\n"
     ]
    }
   ],
   "source": [
    "df_test.drop('total_price',axis=1,inplace=True)"
   ]
  },
  {
   "cell_type": "code",
   "execution_count": 41,
   "id": "4879d9f3",
   "metadata": {},
   "outputs": [
    {
     "data": {
      "text/html": [
       "<div>\n",
       "<style scoped>\n",
       "    .dataframe tbody tr th:only-of-type {\n",
       "        vertical-align: middle;\n",
       "    }\n",
       "\n",
       "    .dataframe tbody tr th {\n",
       "        vertical-align: top;\n",
       "    }\n",
       "\n",
       "    .dataframe thead th {\n",
       "        text-align: right;\n",
       "    }\n",
       "</style>\n",
       "<table border=\"1\" class=\"dataframe\">\n",
       "  <thead>\n",
       "    <tr style=\"text-align: right;\">\n",
       "      <th></th>\n",
       "      <th>store_id</th>\n",
       "      <th>sku_id</th>\n",
       "      <th>is_featured_sku</th>\n",
       "      <th>is_display_sku</th>\n",
       "      <th>total_price_log</th>\n",
       "      <th>units_sold_log</th>\n",
       "    </tr>\n",
       "  </thead>\n",
       "  <tbody>\n",
       "    <tr>\n",
       "      <th>0</th>\n",
       "      <td>3</td>\n",
       "      <td>1</td>\n",
       "      <td>0</td>\n",
       "      <td>0</td>\n",
       "      <td>4.595499</td>\n",
       "      <td>2.995732</td>\n",
       "    </tr>\n",
       "    <tr>\n",
       "      <th>1</th>\n",
       "      <td>3</td>\n",
       "      <td>2</td>\n",
       "      <td>0</td>\n",
       "      <td>0</td>\n",
       "      <td>4.595499</td>\n",
       "      <td>3.332205</td>\n",
       "    </tr>\n",
       "    <tr>\n",
       "      <th>2</th>\n",
       "      <td>3</td>\n",
       "      <td>3</td>\n",
       "      <td>0</td>\n",
       "      <td>0</td>\n",
       "      <td>4.897467</td>\n",
       "      <td>2.944439</td>\n",
       "    </tr>\n",
       "    <tr>\n",
       "      <th>3</th>\n",
       "      <td>3</td>\n",
       "      <td>0</td>\n",
       "      <td>0</td>\n",
       "      <td>0</td>\n",
       "      <td>4.897467</td>\n",
       "      <td>3.784190</td>\n",
       "    </tr>\n",
       "    <tr>\n",
       "      <th>4</th>\n",
       "      <td>3</td>\n",
       "      <td>5</td>\n",
       "      <td>0</td>\n",
       "      <td>0</td>\n",
       "      <td>4.949292</td>\n",
       "      <td>3.951244</td>\n",
       "    </tr>\n",
       "  </tbody>\n",
       "</table>\n",
       "</div>"
      ],
      "text/plain": [
       "   store_id  sku_id  is_featured_sku  is_display_sku  total_price_log  \\\n",
       "0         3       1                0               0         4.595499   \n",
       "1         3       2                0               0         4.595499   \n",
       "2         3       3                0               0         4.897467   \n",
       "3         3       0                0               0         4.897467   \n",
       "4         3       5                0               0         4.949292   \n",
       "\n",
       "   units_sold_log  \n",
       "0        2.995732  \n",
       "1        3.332205  \n",
       "2        2.944439  \n",
       "3        3.784190  \n",
       "4        3.951244  "
      ]
     },
     "execution_count": 41,
     "metadata": {},
     "output_type": "execute_result"
    }
   ],
   "source": [
    "df_train.head()"
   ]
  },
  {
   "cell_type": "code",
   "execution_count": 42,
   "id": "73263827",
   "metadata": {},
   "outputs": [
    {
     "data": {
      "text/html": [
       "<div>\n",
       "<style scoped>\n",
       "    .dataframe tbody tr th:only-of-type {\n",
       "        vertical-align: middle;\n",
       "    }\n",
       "\n",
       "    .dataframe tbody tr th {\n",
       "        vertical-align: top;\n",
       "    }\n",
       "\n",
       "    .dataframe thead th {\n",
       "        text-align: right;\n",
       "    }\n",
       "</style>\n",
       "<table border=\"1\" class=\"dataframe\">\n",
       "  <thead>\n",
       "    <tr style=\"text-align: right;\">\n",
       "      <th></th>\n",
       "      <th>store_id</th>\n",
       "      <th>sku_id</th>\n",
       "      <th>is_featured_sku</th>\n",
       "      <th>is_display_sku</th>\n",
       "      <th>total_price_log</th>\n",
       "    </tr>\n",
       "  </thead>\n",
       "  <tbody>\n",
       "    <tr>\n",
       "      <th>0</th>\n",
       "      <td>3</td>\n",
       "      <td>1</td>\n",
       "      <td>0</td>\n",
       "      <td>0</td>\n",
       "      <td>4.684905</td>\n",
       "    </tr>\n",
       "    <tr>\n",
       "      <th>1</th>\n",
       "      <td>3</td>\n",
       "      <td>2</td>\n",
       "      <td>0</td>\n",
       "      <td>0</td>\n",
       "      <td>4.691463</td>\n",
       "    </tr>\n",
       "    <tr>\n",
       "      <th>2</th>\n",
       "      <td>3</td>\n",
       "      <td>3</td>\n",
       "      <td>0</td>\n",
       "      <td>0</td>\n",
       "      <td>4.897467</td>\n",
       "    </tr>\n",
       "    <tr>\n",
       "      <th>3</th>\n",
       "      <td>3</td>\n",
       "      <td>0</td>\n",
       "      <td>0</td>\n",
       "      <td>0</td>\n",
       "      <td>4.897467</td>\n",
       "    </tr>\n",
       "    <tr>\n",
       "      <th>4</th>\n",
       "      <td>3</td>\n",
       "      <td>5</td>\n",
       "      <td>0</td>\n",
       "      <td>0</td>\n",
       "      <td>5.174453</td>\n",
       "    </tr>\n",
       "    <tr>\n",
       "      <th>...</th>\n",
       "      <td>...</td>\n",
       "      <td>...</td>\n",
       "      <td>...</td>\n",
       "      <td>...</td>\n",
       "      <td>...</td>\n",
       "    </tr>\n",
       "    <tr>\n",
       "      <th>13855</th>\n",
       "      <td>75</td>\n",
       "      <td>13</td>\n",
       "      <td>0</td>\n",
       "      <td>0</td>\n",
       "      <td>5.487025</td>\n",
       "    </tr>\n",
       "    <tr>\n",
       "      <th>13856</th>\n",
       "      <td>75</td>\n",
       "      <td>12</td>\n",
       "      <td>0</td>\n",
       "      <td>0</td>\n",
       "      <td>5.484071</td>\n",
       "    </tr>\n",
       "    <tr>\n",
       "      <th>13857</th>\n",
       "      <td>75</td>\n",
       "      <td>14</td>\n",
       "      <td>1</td>\n",
       "      <td>1</td>\n",
       "      <td>5.947023</td>\n",
       "    </tr>\n",
       "    <tr>\n",
       "      <th>13858</th>\n",
       "      <td>75</td>\n",
       "      <td>24</td>\n",
       "      <td>0</td>\n",
       "      <td>0</td>\n",
       "      <td>5.255736</td>\n",
       "    </tr>\n",
       "    <tr>\n",
       "      <th>13859</th>\n",
       "      <td>75</td>\n",
       "      <td>27</td>\n",
       "      <td>0</td>\n",
       "      <td>0</td>\n",
       "      <td>5.457082</td>\n",
       "    </tr>\n",
       "  </tbody>\n",
       "</table>\n",
       "<p>13860 rows × 5 columns</p>\n",
       "</div>"
      ],
      "text/plain": [
       "       store_id  sku_id  is_featured_sku  is_display_sku  total_price_log\n",
       "0             3       1                0               0         4.684905\n",
       "1             3       2                0               0         4.691463\n",
       "2             3       3                0               0         4.897467\n",
       "3             3       0                0               0         4.897467\n",
       "4             3       5                0               0         5.174453\n",
       "...         ...     ...              ...             ...              ...\n",
       "13855        75      13                0               0         5.487025\n",
       "13856        75      12                0               0         5.484071\n",
       "13857        75      14                1               1         5.947023\n",
       "13858        75      24                0               0         5.255736\n",
       "13859        75      27                0               0         5.457082\n",
       "\n",
       "[13860 rows x 5 columns]"
      ]
     },
     "execution_count": 42,
     "metadata": {},
     "output_type": "execute_result"
    }
   ],
   "source": [
    "df_test"
   ]
  },
  {
   "cell_type": "code",
   "execution_count": 43,
   "id": "e439ada9",
   "metadata": {},
   "outputs": [
    {
     "name": "stderr",
     "output_type": "stream",
     "text": [
      "C:\\Users\\Shikha saraswat\\anaconda3\\lib\\site-packages\\seaborn\\distributions.py:2619: FutureWarning: `distplot` is a deprecated function and will be removed in a future version. Please adapt your code to use either `displot` (a figure-level function with similar flexibility) or `histplot` (an axes-level function for histograms).\n",
      "  warnings.warn(msg, FutureWarning)\n",
      "C:\\Users\\Shikha saraswat\\anaconda3\\lib\\site-packages\\seaborn\\_decorators.py:36: FutureWarning: Pass the following variable as a keyword arg: x. From version 0.12, the only valid positional argument will be `data`, and passing other arguments without an explicit keyword will result in an error or misinterpretation.\n",
      "  warnings.warn(\n",
      "C:\\Users\\Shikha saraswat\\anaconda3\\lib\\site-packages\\seaborn\\_core.py:1326: UserWarning: Vertical orientation ignored with only `x` specified.\n",
      "  warnings.warn(single_var_warning.format(\"Vertical\", \"x\"))\n"
     ]
    },
    {
     "data": {
      "image/png": "[encoded data removed]",
      "text/plain": [
       "<Figure size 864x576 with 3 Axes>"
      ]
     },
     "metadata": {},
     "output_type": "display_data"
    }
   ],
   "source": [
    "def plotting_3_chart(dataf, feature):\n",
    "    ## Importing seaborn, matplotlab and scipy modules. \n",
    "    import seaborn as sns\n",
    "    import matplotlib.pyplot as plt\n",
    "    import matplotlib.gridspec as gridspec\n",
    "    from scipy import stats\n",
    "    import matplotlib.style as style\n",
    "    style.use('fivethirtyeight')\n",
    "\n",
    "    ## Creating a customized chart. and giving in figsize and everything. \n",
    "    fig = plt.figure(constrained_layout=True, figsize=(12,8))\n",
    "    ## creating a grid of 3 cols and 3 rows. \n",
    "    grid = gridspec.GridSpec(ncols=3, nrows=3, figure=fig)\n",
    "    #gs = fig3.add_gridspec(3, 3)\n",
    "\n",
    "    ## Customizing the histogram grid. \n",
    "    ax1 = fig.add_subplot(grid[0, :2])\n",
    "    ## Set the title. \n",
    "    ax1.set_title('Histogram')\n",
    "    ## plot the histogram. \n",
    "    sns.distplot(dataf.loc[:,feature], norm_hist=True, ax = ax1)\n",
    "\n",
    "    # customizing the QQ_plot. \n",
    "    ax2 = fig.add_subplot(grid[1, :2])\n",
    "    ## Set the title. \n",
    "    ax2.set_title('QQ_plot')\n",
    "    ## Plotting the QQ_Plot. \n",
    "    stats.probplot(dataf.loc[:,feature], plot = ax2)\n",
    "\n",
    "    ## Customizing the Box Plot. \n",
    "    ax3 = fig.add_subplot(grid[:, 2])\n",
    "    ## Set title. \n",
    "    ax3.set_title('Box Plot')\n",
    "    ## Plotting the box plot. \n",
    "    sns.boxplot(dataf.loc[:,feature], orient='v', ax = ax3 );\n",
    "    \n",
    "plotting_3_chart(df_train, 'units_sold_log')"
   ]
  },
  {
   "cell_type": "markdown",
   "id": "4637d34a",
   "metadata": {},
   "source": [
    "#### Dividing data in features_column(X) and target_column(y)"
   ]
  },
  {
   "cell_type": "code",
   "execution_count": 44,
   "id": "5b2ce8fe",
   "metadata": {},
   "outputs": [],
   "source": [
    "X =df_train.drop('units_sold_log',axis=1)"
   ]
  },
  {
   "cell_type": "code",
   "execution_count": 45,
   "id": "31368475",
   "metadata": {},
   "outputs": [
    {
     "data": {
      "text/html": [
       "<div>\n",
       "<style scoped>\n",
       "    .dataframe tbody tr th:only-of-type {\n",
       "        vertical-align: middle;\n",
       "    }\n",
       "\n",
       "    .dataframe tbody tr th {\n",
       "        vertical-align: top;\n",
       "    }\n",
       "\n",
       "    .dataframe thead th {\n",
       "        text-align: right;\n",
       "    }\n",
       "</style>\n",
       "<table border=\"1\" class=\"dataframe\">\n",
       "  <thead>\n",
       "    <tr style=\"text-align: right;\">\n",
       "      <th></th>\n",
       "      <th>store_id</th>\n",
       "      <th>sku_id</th>\n",
       "      <th>is_featured_sku</th>\n",
       "      <th>is_display_sku</th>\n",
       "      <th>total_price_log</th>\n",
       "    </tr>\n",
       "  </thead>\n",
       "  <tbody>\n",
       "    <tr>\n",
       "      <th>0</th>\n",
       "      <td>3</td>\n",
       "      <td>1</td>\n",
       "      <td>0</td>\n",
       "      <td>0</td>\n",
       "      <td>4.595499</td>\n",
       "    </tr>\n",
       "    <tr>\n",
       "      <th>1</th>\n",
       "      <td>3</td>\n",
       "      <td>2</td>\n",
       "      <td>0</td>\n",
       "      <td>0</td>\n",
       "      <td>4.595499</td>\n",
       "    </tr>\n",
       "    <tr>\n",
       "      <th>2</th>\n",
       "      <td>3</td>\n",
       "      <td>3</td>\n",
       "      <td>0</td>\n",
       "      <td>0</td>\n",
       "      <td>4.897467</td>\n",
       "    </tr>\n",
       "    <tr>\n",
       "      <th>3</th>\n",
       "      <td>3</td>\n",
       "      <td>0</td>\n",
       "      <td>0</td>\n",
       "      <td>0</td>\n",
       "      <td>4.897467</td>\n",
       "    </tr>\n",
       "    <tr>\n",
       "      <th>4</th>\n",
       "      <td>3</td>\n",
       "      <td>5</td>\n",
       "      <td>0</td>\n",
       "      <td>0</td>\n",
       "      <td>4.949292</td>\n",
       "    </tr>\n",
       "    <tr>\n",
       "      <th>...</th>\n",
       "      <td>...</td>\n",
       "      <td>...</td>\n",
       "      <td>...</td>\n",
       "      <td>...</td>\n",
       "      <td>...</td>\n",
       "    </tr>\n",
       "    <tr>\n",
       "      <th>150145</th>\n",
       "      <td>75</td>\n",
       "      <td>13</td>\n",
       "      <td>0</td>\n",
       "      <td>0</td>\n",
       "      <td>5.463143</td>\n",
       "    </tr>\n",
       "    <tr>\n",
       "      <th>150146</th>\n",
       "      <td>75</td>\n",
       "      <td>12</td>\n",
       "      <td>0</td>\n",
       "      <td>0</td>\n",
       "      <td>5.463143</td>\n",
       "    </tr>\n",
       "    <tr>\n",
       "      <th>150147</th>\n",
       "      <td>75</td>\n",
       "      <td>14</td>\n",
       "      <td>1</td>\n",
       "      <td>1</td>\n",
       "      <td>5.879625</td>\n",
       "    </tr>\n",
       "    <tr>\n",
       "      <th>150148</th>\n",
       "      <td>75</td>\n",
       "      <td>24</td>\n",
       "      <td>0</td>\n",
       "      <td>1</td>\n",
       "      <td>4.954329</td>\n",
       "    </tr>\n",
       "    <tr>\n",
       "      <th>150149</th>\n",
       "      <td>75</td>\n",
       "      <td>27</td>\n",
       "      <td>0</td>\n",
       "      <td>0</td>\n",
       "      <td>5.457082</td>\n",
       "    </tr>\n",
       "  </tbody>\n",
       "</table>\n",
       "<p>150150 rows × 5 columns</p>\n",
       "</div>"
      ],
      "text/plain": [
       "        store_id  sku_id  is_featured_sku  is_display_sku  total_price_log\n",
       "0              3       1                0               0         4.595499\n",
       "1              3       2                0               0         4.595499\n",
       "2              3       3                0               0         4.897467\n",
       "3              3       0                0               0         4.897467\n",
       "4              3       5                0               0         4.949292\n",
       "...          ...     ...              ...             ...              ...\n",
       "150145        75      13                0               0         5.463143\n",
       "150146        75      12                0               0         5.463143\n",
       "150147        75      14                1               1         5.879625\n",
       "150148        75      24                0               1         4.954329\n",
       "150149        75      27                0               0         5.457082\n",
       "\n",
       "[150150 rows x 5 columns]"
      ]
     },
     "execution_count": 45,
     "metadata": {},
     "output_type": "execute_result"
    }
   ],
   "source": [
    "X"
   ]
  },
  {
   "cell_type": "code",
   "execution_count": 46,
   "id": "abbd53c0",
   "metadata": {},
   "outputs": [],
   "source": [
    "y = df_train['units_sold_log']"
   ]
  },
  {
   "cell_type": "code",
   "execution_count": 47,
   "id": "bd5a15b1",
   "metadata": {},
   "outputs": [],
   "source": [
    "# Performing train_test_split\n",
    "from sklearn.model_selection import train_test_split\n",
    "X_train, X_test, y_train, y_test = train_test_split(\n",
    "     X, y, test_size=0.33, random_state=42)"
   ]
  },
  {
   "cell_type": "code",
   "execution_count": 48,
   "id": "8cf8a6fe",
   "metadata": {},
   "outputs": [
    {
     "data": {
      "text/plain": [
       "144782    3.713572\n",
       "117       2.564949\n",
       "77408     5.645447\n",
       "62193     2.639057\n",
       "143901    1.386294\n",
       "            ...   \n",
       "96305     2.397895\n",
       "137737    3.401197\n",
       "41040     3.218876\n",
       "33950     3.761200\n",
       "44961     3.044522\n",
       "Name: units_sold_log, Length: 49550, dtype: float64"
      ]
     },
     "execution_count": 48,
     "metadata": {},
     "output_type": "execute_result"
    }
   ],
   "source": [
    "y_test"
   ]
  },
  {
   "cell_type": "code",
   "execution_count": 49,
   "id": "1bdbc0f7",
   "metadata": {},
   "outputs": [
    {
     "data": {
      "text/plain": [
       "LinearRegression()"
      ]
     },
     "execution_count": 49,
     "metadata": {},
     "output_type": "execute_result"
    }
   ],
   "source": [
    "# Applying linear regression algorithm\n",
    "from sklearn.linear_model import LinearRegression  \n",
    "regressor= LinearRegression()  \n",
    "regressor.fit(X_train, y_train)"
   ]
  },
  {
   "cell_type": "code",
   "execution_count": 50,
   "id": "18b003bc",
   "metadata": {},
   "outputs": [
    {
     "name": "stdout",
     "output_type": "stream",
     "text": [
      "(100600, 5) (49550, 5) (100600,) (49550,)\n"
     ]
    }
   ],
   "source": [
    "# Checking  the length of every set of data\n",
    "print(X_train.shape, X_test.shape, y_train.shape, y_test.shape)"
   ]
  },
  {
   "cell_type": "code",
   "execution_count": 51,
   "id": "c06f1b4e",
   "metadata": {},
   "outputs": [
    {
     "data": {
      "text/plain": [
       "(100600,)"
      ]
     },
     "execution_count": 51,
     "metadata": {},
     "output_type": "execute_result"
    }
   ],
   "source": [
    "y_pred = regressor.predict(X_train)\n",
    "y_pred.shape"
   ]
  },
  {
   "cell_type": "code",
   "execution_count": 52,
   "id": "371edaa7",
   "metadata": {},
   "outputs": [
    {
     "data": {
      "text/plain": [
       "0.5582303164731357"
      ]
     },
     "execution_count": 52,
     "metadata": {},
     "output_type": "execute_result"
    }
   ],
   "source": [
    "from sklearn.metrics import mean_squared_error\n",
    "mean_squared_error(y_train,y_pred)"
   ]
  },
  {
   "cell_type": "code",
   "execution_count": 53,
   "id": "d3491900",
   "metadata": {},
   "outputs": [],
   "source": [
    "from sklearn.metrics import mean_squared_log_error\n",
    "RMSLE = np.sqrt(mean_squared_log_error(y_train, y_pred))"
   ]
  },
  {
   "cell_type": "markdown",
   "id": "37fa8a64",
   "metadata": {},
   "source": [
    "### Root Mean Squared Log Error"
   ]
  },
  {
   "cell_type": "code",
   "execution_count": 54,
   "id": "724bfe64",
   "metadata": {},
   "outputs": [
    {
     "data": {
      "text/plain": [
       "0.1765851538813464"
      ]
     },
     "execution_count": 54,
     "metadata": {},
     "output_type": "execute_result"
    }
   ],
   "source": [
    "# Root Mean Squared Log Error\n",
    "RMSLE"
   ]
  },
  {
   "cell_type": "markdown",
   "id": "61cec245",
   "metadata": {},
   "source": [
    "#### 100*RMSLE (Root Mean Squared Log Error)."
   ]
  },
  {
   "cell_type": "code",
   "execution_count": 55,
   "id": "ab29e02b",
   "metadata": {},
   "outputs": [
    {
     "data": {
      "text/plain": [
       "17.658515388134642"
      ]
     },
     "execution_count": 55,
     "metadata": {},
     "output_type": "execute_result"
    }
   ],
   "source": [
    "100*RMSLE"
   ]
  },
  {
   "cell_type": "code",
   "execution_count": 56,
   "id": "31937d23",
   "metadata": {},
   "outputs": [
    {
     "data": {
      "image/png": "[encoded data removed]",
      "text/plain": [
       "<Figure size 432x288 with 1 Axes>"
      ]
     },
     "metadata": {},
     "output_type": "display_data"
    }
   ],
   "source": [
    "import statsmodels.api as sm\n",
    "mod_fit = sm.OLS(y_train,X_train).fit()\n",
    "res = mod_fit.resid\n",
    "fig = sm.qqplot(res,fit=True,line='45')\n",
    "plt.show()"
   ]
  },
  {
   "cell_type": "code",
   "execution_count": 57,
   "id": "43971fe3",
   "metadata": {},
   "outputs": [
    {
     "name": "stdout",
     "output_type": "stream",
     "text": [
      "                                 OLS Regression Results                                \n",
      "=======================================================================================\n",
      "Dep. Variable:         units_sold_log   R-squared (uncentered):                   0.943\n",
      "Model:                            OLS   Adj. R-squared (uncentered):              0.943\n",
      "Method:                 Least Squares   F-statistic:                          3.347e+05\n",
      "Date:                Sun, 07 Aug 2022   Prob (F-statistic):                        0.00\n",
      "Time:                        20:35:52   Log-Likelihood:                     -1.2869e+05\n",
      "No. Observations:              100600   AIC:                                  2.574e+05\n",
      "Df Residuals:                  100595   BIC:                                  2.574e+05\n",
      "Df Model:                           5                                                  \n",
      "Covariance Type:            nonrobust                                                  \n",
      "===================================================================================\n",
      "                      coef    std err          t      P>|t|      [0.025      0.975]\n",
      "-----------------------------------------------------------------------------------\n",
      "store_id            0.0031      0.000     25.945      0.000       0.003       0.003\n",
      "sku_id             -0.0612      0.000   -137.455      0.000      -0.062      -0.060\n",
      "is_featured_sku     0.4952      0.010     47.941      0.000       0.475       0.515\n",
      "is_display_sku      0.8362      0.009     94.116      0.000       0.819       0.854\n",
      "total_price_log     0.7331      0.001    534.476      0.000       0.730       0.736\n",
      "==============================================================================\n",
      "Omnibus:                     1183.882   Durbin-Watson:                   1.985\n",
      "Prob(Omnibus):                  0.000   Jarque-Bera (JB):             1218.458\n",
      "Skew:                          -0.265   Prob(JB):                    2.60e-265\n",
      "Kurtosis:                       2.900   Cond. No.                         187.\n",
      "==============================================================================\n",
      "\n",
      "Notes:\n",
      "[1] R² is computed without centering (uncentered) since the model does not contain a constant.\n",
      "[2] Standard Errors assume that the covariance matrix of the errors is correctly specified.\n"
     ]
    }
   ],
   "source": [
    "# OLS summary\n",
    "model = sm.OLS(y_train,X_train)\n",
    "results = model.fit()\n",
    "print(results.summary())"
   ]
  },
  {
   "cell_type": "code",
   "execution_count": 58,
   "id": "54808e0c",
   "metadata": {},
   "outputs": [
    {
     "data": {
      "text/html": [
       "<div>\n",
       "<style scoped>\n",
       "    .dataframe tbody tr th:only-of-type {\n",
       "        vertical-align: middle;\n",
       "    }\n",
       "\n",
       "    .dataframe tbody tr th {\n",
       "        vertical-align: top;\n",
       "    }\n",
       "\n",
       "    .dataframe thead th {\n",
       "        text-align: right;\n",
       "    }\n",
       "</style>\n",
       "<table border=\"1\" class=\"dataframe\">\n",
       "  <thead>\n",
       "    <tr style=\"text-align: right;\">\n",
       "      <th></th>\n",
       "      <th>store_id</th>\n",
       "      <th>sku_id</th>\n",
       "      <th>is_featured_sku</th>\n",
       "      <th>is_display_sku</th>\n",
       "      <th>total_price_log</th>\n",
       "    </tr>\n",
       "  </thead>\n",
       "  <tbody>\n",
       "    <tr>\n",
       "      <th>144782</th>\n",
       "      <td>25</td>\n",
       "      <td>12</td>\n",
       "      <td>0</td>\n",
       "      <td>0</td>\n",
       "      <td>5.358118</td>\n",
       "    </tr>\n",
       "    <tr>\n",
       "      <th>117</th>\n",
       "      <td>8</td>\n",
       "      <td>20</td>\n",
       "      <td>0</td>\n",
       "      <td>0</td>\n",
       "      <td>5.327451</td>\n",
       "    </tr>\n",
       "    <tr>\n",
       "      <th>77408</th>\n",
       "      <td>5</td>\n",
       "      <td>12</td>\n",
       "      <td>1</td>\n",
       "      <td>1</td>\n",
       "      <td>4.944228</td>\n",
       "    </tr>\n",
       "    <tr>\n",
       "      <th>62193</th>\n",
       "      <td>61</td>\n",
       "      <td>14</td>\n",
       "      <td>0</td>\n",
       "      <td>0</td>\n",
       "      <td>6.210675</td>\n",
       "    </tr>\n",
       "    <tr>\n",
       "      <th>143901</th>\n",
       "      <td>44</td>\n",
       "      <td>6</td>\n",
       "      <td>0</td>\n",
       "      <td>0</td>\n",
       "      <td>5.472166</td>\n",
       "    </tr>\n",
       "    <tr>\n",
       "      <th>...</th>\n",
       "      <td>...</td>\n",
       "      <td>...</td>\n",
       "      <td>...</td>\n",
       "      <td>...</td>\n",
       "      <td>...</td>\n",
       "    </tr>\n",
       "    <tr>\n",
       "      <th>96305</th>\n",
       "      <td>28</td>\n",
       "      <td>0</td>\n",
       "      <td>0</td>\n",
       "      <td>0</td>\n",
       "      <td>4.892133</td>\n",
       "    </tr>\n",
       "    <tr>\n",
       "      <th>137737</th>\n",
       "      <td>18</td>\n",
       "      <td>16</td>\n",
       "      <td>0</td>\n",
       "      <td>0</td>\n",
       "      <td>4.697977</td>\n",
       "    </tr>\n",
       "    <tr>\n",
       "      <th>41040</th>\n",
       "      <td>41</td>\n",
       "      <td>12</td>\n",
       "      <td>0</td>\n",
       "      <td>0</td>\n",
       "      <td>5.358118</td>\n",
       "    </tr>\n",
       "    <tr>\n",
       "      <th>33950</th>\n",
       "      <td>29</td>\n",
       "      <td>8</td>\n",
       "      <td>0</td>\n",
       "      <td>0</td>\n",
       "      <td>5.745524</td>\n",
       "    </tr>\n",
       "    <tr>\n",
       "      <th>44961</th>\n",
       "      <td>70</td>\n",
       "      <td>18</td>\n",
       "      <td>0</td>\n",
       "      <td>0</td>\n",
       "      <td>5.327451</td>\n",
       "    </tr>\n",
       "  </tbody>\n",
       "</table>\n",
       "<p>49550 rows × 5 columns</p>\n",
       "</div>"
      ],
      "text/plain": [
       "        store_id  sku_id  is_featured_sku  is_display_sku  total_price_log\n",
       "144782        25      12                0               0         5.358118\n",
       "117            8      20                0               0         5.327451\n",
       "77408          5      12                1               1         4.944228\n",
       "62193         61      14                0               0         6.210675\n",
       "143901        44       6                0               0         5.472166\n",
       "...          ...     ...              ...             ...              ...\n",
       "96305         28       0                0               0         4.892133\n",
       "137737        18      16                0               0         4.697977\n",
       "41040         41      12                0               0         5.358118\n",
       "33950         29       8                0               0         5.745524\n",
       "44961         70      18                0               0         5.327451\n",
       "\n",
       "[49550 rows x 5 columns]"
      ]
     },
     "execution_count": 58,
     "metadata": {},
     "output_type": "execute_result"
    }
   ],
   "source": [
    "X_test"
   ]
  },
  {
   "cell_type": "code",
   "execution_count": 59,
   "id": "48eac4a5",
   "metadata": {},
   "outputs": [],
   "source": [
    "# Prediction on the data given on problem statement\n",
    "X_test_predict = regressor.predict(X_test)"
   ]
  },
  {
   "cell_type": "code",
   "execution_count": 60,
   "id": "c08e3fdc",
   "metadata": {},
   "outputs": [
    {
     "data": {
      "text/plain": [
       "array([3.27961775, 3.02046254, 4.62382704, ..., 3.28271274, 3.28595964,\n",
       "       3.09894368])"
      ]
     },
     "execution_count": 60,
     "metadata": {},
     "output_type": "execute_result"
    }
   ],
   "source": [
    "X_test_predict"
   ]
  },
  {
   "cell_type": "code",
   "execution_count": 61,
   "id": "4d1cea21",
   "metadata": {},
   "outputs": [
    {
     "data": {
      "text/plain": [
       "array([ 26.56561609,  20.50077184, 101.88319755, ...,  26.64796363,\n",
       "        26.73462773,  22.17451561])"
      ]
     },
     "execution_count": 61,
     "metadata": {},
     "output_type": "execute_result"
    }
   ],
   "source": [
    "# Unscaled value i.e using exponential to convert it in default form\n",
    "y_org = np.exp(X_test_predict)\n",
    "y_org"
   ]
  },
  {
   "cell_type": "code",
   "execution_count": null,
   "id": "4d8fc87b",
   "metadata": {},
   "outputs": [],
   "source": []
  }
 ],
 "metadata": {
  "kernelspec": {
   "display_name": "Python 3 (ipykernel)",
   "language": "python",
   "name": "python3"
  },
  "language_info": {
   "codemirror_mode": {
    "name": "ipython",
    "version": 3
   },
   "file_extension": ".py",
   "mimetype": "text/x-python",
   "name": "python",
   "nbconvert_exporter": "python",
   "pygments_lexer": "ipython3",
   "version": "3.9.12"
  }
 },
 "nbformat": 4,
 "nbformat_minor": 5
}
